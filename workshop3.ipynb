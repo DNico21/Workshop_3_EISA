{
 "cells": [
  {
   "cell_type": "markdown",
   "metadata": {},
   "source": [
    "# Workshop II - Advanced Data Analytics\n",
    "## Mateo Vanegas - 296175\n",
    "## Nicolas Urrea - 304871"
   ]
  }
 ],
 "metadata": {
  "language_info": {
   "name": "python"
  }
 },
 "nbformat": 4,
 "nbformat_minor": 2
}
