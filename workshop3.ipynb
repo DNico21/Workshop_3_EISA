{
 "cells": [
  {
   "cell_type": "markdown",
   "metadata": {},
   "source": [
    "# Workshop II - Advanced Data Analytics\n",
    "## Mateo Vanegas - 296175\n",
    "## Nicolas Urrea - 304871"
   ]
  },
  {
   "cell_type": "markdown",
   "metadata": {},
   "source": [
    "## Excercise 1"
   ]
  },
  {
   "cell_type": "markdown",
   "metadata": {},
   "source": [
    "### 1.1"
   ]
  },
  {
   "cell_type": "code",
   "execution_count": 1,
   "metadata": {},
   "outputs": [],
   "source": [
    "import numpy as np\n",
    "import matplotlib.pyplot as plt\n",
    "\n",
    "\n",
    "\n",
    "def generate_correlation_matrix(data: list[list[float]]) -> list[list[float]]:\n",
    "    \"\"\"\n",
    "    Computes the correlation matrix for multiple variables.\n",
    "    \n",
    "    :param data: List of lists, where each inner list represents a variable (column).\n",
    "    :return: Correlation matrix as a 2D list.\n",
    "    \"\"\"\n",
    "    data_array = np.array(data)  # Convert list of lists to NumPy array\n",
    "    correlation_matrix = np.corrcoef(data_array)  # Compute correlation matrix\n",
    "    return correlation_matrix.tolist()  # Convert back to list of lists\n"
   ]
  },
  {
   "cell_type": "markdown",
   "metadata": {},
   "source": [
    "### 1.2"
   ]
  },
  {
   "cell_type": "code",
   "execution_count": 2,
   "metadata": {},
   "outputs": [],
   "source": [
    "def interpret_correlation_value(correlation: float) -> str:\n",
    "    \"\"\"\n",
    "    Interprets the strength of a given correlation coefficient.\n",
    "    \n",
    "    :param correlation: Correlation coefficient (-1 to 1).\n",
    "    :return: Interpretation as a string.\n",
    "    \"\"\"\n",
    "    if correlation >= 0.9:\n",
    "        return \"Very strong positive correlation\"\n",
    "    elif correlation >= 0.7:\n",
    "        return \"Strong positive correlation\"\n",
    "    elif correlation >= 0.4:\n",
    "        return \"Moderate positive correlation\"\n",
    "    elif correlation >= 0.2:\n",
    "        return \"Weak positive correlation\"\n",
    "    elif correlation > -0.2:\n",
    "        return \"Very weak or no correlation\"\n",
    "    elif correlation > -0.4:\n",
    "        return \"Weak negative correlation\"\n",
    "    elif correlation > -0.7:\n",
    "        return \"Moderate negative correlation\"\n",
    "    elif correlation > -0.9:\n",
    "        return \"Strong negative correlation\"\n",
    "    else:\n",
    "        return \"Very strong negative correlation\"\n"
   ]
  },
  {
   "cell_type": "markdown",
   "metadata": {},
   "source": [
    "### 1.3"
   ]
  },
  {
   "cell_type": "code",
   "execution_count": 3,
   "metadata": {},
   "outputs": [],
   "source": [
    "import seaborn as sns\n",
    "def plot_correlation_matrix(data: list[list[float]], labels: list[str]) -> None:\n",
    "    \"\"\"\n",
    "    Generates a heatmap of the correlation matrix.\n",
    "    \n",
    "    :param data: List of lists where each inner list represents a variable.\n",
    "    :param labels: List of variable names.\n",
    "    \"\"\"\n",
    "    correlation_matrix = np.array(generate_correlation_matrix(data))  # Compute correlation matrix\n",
    "    plt.figure(figsize=(8, 6))  # Set figure size\n",
    "    sns.heatmap(correlation_matrix, annot=True, cmap=\"coolwarm\", xticklabels=labels, yticklabels=labels)\n",
    "    plt.title(\"Correlation Matrix Heatmap\")\n",
    "    plt.show()\n"
   ]
  },
  {
   "cell_type": "markdown",
   "metadata": {},
   "source": [
    "### Example"
   ]
  },
  {
   "cell_type": "code",
   "execution_count": 4,
   "metadata": {},
   "outputs": [
    {
     "name": "stdout",
     "output_type": "stream",
     "text": [
      "Correlation Matrix: [[0.9999999999999999, 0.9999999999999999, -0.9999999999999999], [0.9999999999999999, 0.9999999999999999, -0.9999999999999999], [-0.9999999999999999, -0.9999999999999999, 0.9999999999999999]]\n",
      "Interpretation of correlation 0.9999999999999999: Very strong positive correlation\n"
     ]
    },
    {
     "data": {
      "image/png": "[encoded data removed]",
      "text/plain": [
       "<Figure size 800x600 with 2 Axes>"
      ]
     },
     "metadata": {},
     "output_type": "display_data"
    }
   ],
   "source": [
    "# Sample data (3 variables with 5 observations each)\n",
    "data = [\n",
    "    [1, 2, 3, 4, 5],  # Variable 1\n",
    "    [2, 4, 6, 8, 10],  # Variable 2 (strong positive correlation with Variable 1)\n",
    "    [5, 4, 3, 2, 1]   # Variable 3 (strong negative correlation with Variable 1)\n",
    "]\n",
    "\n",
    "labels = [\"Var1\", \"Var2\", \"Var3\"]\n",
    "\n",
    "# Compute and print correlation matrix\n",
    "corr_matrix = generate_correlation_matrix(data)\n",
    "print(\"Correlation Matrix:\", corr_matrix)\n",
    "\n",
    "# Interpret one correlation value\n",
    "corr_value = corr_matrix[0][1]  # Correlation between Var1 and Var2\n",
    "print(f\"Interpretation of correlation {corr_value}: {interpret_correlation_value(corr_value)}\")\n",
    "\n",
    "# Plot the correlation matrix\n",
    "plot_correlation_matrix(data, labels)\n"
   ]
  },
  {
   "cell_type": "markdown",
   "metadata": {},
   "source": [
    "## Excercise 2"
   ]
  },
  {
   "cell_type": "markdown",
   "metadata": {},
   "source": [
    "### 2.1"
   ]
  },
  {
   "cell_type": "code",
   "execution_count": 5,
   "metadata": {},
   "outputs": [],
   "source": [
    "from scipy import stats\n",
    "\n",
    "def perform_one_sample_t_test(data: list[float], population_mean: float) -> dict[str, float]:\n",
    "    \"\"\"\n",
    "    Performs a one-sample t-test.\n",
    "    \n",
    "    :param data: List of sample values.\n",
    "    :param population_mean: Known population mean.\n",
    "    :return: Dictionary with t-statistic and p-value.\n",
    "    \"\"\"\n",
    "    t_stat, p_value = stats.ttest_1samp(data, population_mean)  # Perform one-sample t-test\n",
    "    return {\"t-statistic\": t_stat, \"p-value\": p_value}\n"
   ]
  },
  {
   "cell_type": "markdown",
   "metadata": {},
   "source": [
    "### 2.2"
   ]
  },
  {
   "cell_type": "code",
   "execution_count": 6,
   "metadata": {},
   "outputs": [],
   "source": [
    "def perform_two_sample_t_test(data1: list[float], data2: list[float]) -> dict[str, float]:\n",
    "    \"\"\"\n",
    "    Performs an independent two-sample t-test.\n",
    "    \n",
    "    :param data1: List of values for sample 1.\n",
    "    :param data2: List of values for sample 2.\n",
    "    :return: Dictionary with t-statistic and p-value.\n",
    "    \"\"\"\n",
    "    t_stat, p_value = stats.ttest_ind(data1, data2)  # Perform two-sample t-test\n",
    "    return {\"t-statistic\": t_stat, \"p-value\": p_value}\n"
   ]
  },
  {
   "cell_type": "markdown",
   "metadata": {},
   "source": [
    "### 2.3"
   ]
  },
  {
   "cell_type": "code",
   "execution_count": 7,
   "metadata": {},
   "outputs": [],
   "source": [
    "def find_critical_value(alpha: float, df: int) -> float:\n",
    "    \"\"\"\n",
    "    Computes the critical t-value based on significance level and degrees of freedom.\n",
    "    \n",
    "    :param alpha: Significance level (e.g., 0.05 for 95% confidence).\n",
    "    :param df: Degrees of freedom.\n",
    "    :return: Critical t-value.\n",
    "    \"\"\"\n",
    "    return stats.t.ppf(1 - alpha / 2, df)  # Two-tailed test critical value\n"
   ]
  },
  {
   "cell_type": "markdown",
   "metadata": {},
   "source": [
    "### 2.4"
   ]
  },
  {
   "cell_type": "code",
   "execution_count": 8,
   "metadata": {},
   "outputs": [],
   "source": [
    "def interpret_t_test_result(stats_result: dict[str, float], alpha: float = 0.05) -> str:\n",
    "    \"\"\"\n",
    "    Interprets the results of a t-test.\n",
    "    \n",
    "    :param stats_result: Dictionary with t-statistic and p-value.\n",
    "    :param alpha: Significance level.\n",
    "    :return: Interpretation as a string.\n",
    "    \"\"\"\n",
    "    p_value = stats_result[\"p-value\"]\n",
    "    if p_value < alpha:\n",
    "        return f\"Reject the null hypothesis (p={p_value:.5f}): Significant difference.\"\n",
    "    else:\n",
    "        return f\"Fail to reject the null hypothesis (p={p_value:.5f}): No significant difference.\"\n"
   ]
  },
  {
   "cell_type": "markdown",
   "metadata": {},
   "source": [
    "### Example"
   ]
  },
  {
   "cell_type": "code",
   "execution_count": 9,
   "metadata": {},
   "outputs": [
    {
     "name": "stdout",
     "output_type": "stream",
     "text": [
      "One-Sample t-test: {'t-statistic': np.float64(0.6666666666666673), 'p-value': np.float64(0.5217069270814155)}\n",
      "Fail to reject the null hypothesis (p=0.52171): No significant difference.\n",
      "\n",
      "Two-Sample t-test: {'t-statistic': np.float64(-8.396895462201574), 'p-value': np.float64(1.221433755174456e-07)}\n",
      "Reject the null hypothesis (p=0.00000): Significant difference.\n",
      "\n",
      "Critical Value (alpha=0.05, df=9): 2.26216\n"
     ]
    }
   ],
   "source": [
    "# Sample data\n",
    "sample1 = [12, 15, 14, 10, 13, 16, 11, 14, 15, 14]  # Sample 1\n",
    "sample2 = [18, 20, 19, 21, 22, 20, 23, 19, 18, 21]  # Sample 2\n",
    "population_mean = 13\n",
    "\n",
    "# One-sample t-test\n",
    "one_sample_result = perform_one_sample_t_test(sample1, population_mean)\n",
    "print(\"One-Sample t-test:\", one_sample_result)\n",
    "print(interpret_t_test_result(one_sample_result))\n",
    "\n",
    "# Two-sample t-test\n",
    "two_sample_result = perform_two_sample_t_test(sample1, sample2)\n",
    "print(\"\\nTwo-Sample t-test:\", two_sample_result)\n",
    "print(interpret_t_test_result(two_sample_result))\n",
    "\n",
    "# Finding critical value\n",
    "alpha = 0.05\n",
    "df = len(sample1) - 1\n",
    "critical_value = find_critical_value(alpha, df)\n",
    "print(f\"\\nCritical Value (alpha={alpha}, df={df}): {critical_value:.5f}\")\n"
   ]
  },
  {
   "cell_type": "markdown",
   "metadata": {},
   "source": [
    "## Excercise 3"
   ]
  },
  {
   "cell_type": "markdown",
   "metadata": {},
   "source": [
    "## 3.1"
   ]
  },
  {
   "cell_type": "code",
   "execution_count": 10,
   "metadata": {},
   "outputs": [],
   "source": [
    "from typing import List, Tuple\n",
    "def calculate_confidence_interval(data: List[float], confidence: float = 0.95) -> Tuple[float, float]:\n",
    "    \"\"\"\n",
    "    Calculates the confidence interval for the mean of a dataset.\n",
    "    \n",
    "    Parameters:\n",
    "    data (List[float]): The dataset to analyze.\n",
    "    confidence (float): The confidence level (default is 0.95 for 95% confidence interval).\n",
    "    \n",
    "    Returns:\n",
    "    Tuple[float, float]: The lower and upper bounds of the confidence interval.\n",
    "    \"\"\"\n",
    "    mean = np.mean(data)\n",
    "    sem = stats.sem(data)  # Standard error of the mean\n",
    "    margin_of_error = sem * stats.t.ppf((1 + confidence) / 2., len(data) - 1)\n",
    "    return mean - margin_of_error, mean + margin_of_error"
   ]
  },
  {
   "cell_type": "markdown",
   "metadata": {},
   "source": [
    "## 3.2"
   ]
  },
  {
   "cell_type": "code",
   "execution_count": 11,
   "metadata": {},
   "outputs": [],
   "source": [
    "def interpret_confidence_interval(interval: Tuple[float, float], mean: float) -> str:\n",
    "    \"\"\"\n",
    "    Provides an interpretation of the confidence interval.\n",
    "    \n",
    "    Parameters:\n",
    "    interval (Tuple[float, float]): The confidence interval (lower bound, upper bound).\n",
    "    mean (float): The sample mean.\n",
    "    \n",
    "    Returns:\n",
    "    str: Interpretation of the confidence interval.\n",
    "    \"\"\"\n",
    "    return (f\"With a given confidence level, the true mean is expected to be between \"\n",
    "            f\"{interval[0]:.2f} and {interval[1]:.2f}. The sample mean is {mean:.2f}.\")"
   ]
  },
  {
   "cell_type": "markdown",
   "metadata": {},
   "source": [
    "## 3.3"
   ]
  },
  {
   "cell_type": "code",
   "execution_count": 12,
   "metadata": {},
   "outputs": [],
   "source": [
    "def plot_confidence_interval(data: List[float], confidence: float = 0.95) -> None:\n",
    "    \"\"\"\n",
    "    Visualizes the confidence interval by plotting the sample mean and bounds.\n",
    "    \n",
    "    Parameters:\n",
    "    data (List[float]): The dataset to analyze.\n",
    "    confidence (float): The confidence level (default is 0.95 for 95% confidence interval).\n",
    "    \n",
    "    Returns:\n",
    "    None\n",
    "    \"\"\"\n",
    "    mean = np.mean(data)\n",
    "    lower, upper = calculate_confidence_interval(data, confidence)\n",
    "    \n",
    "    plt.figure(figsize=(8, 4))\n",
    "    plt.axhline(mean, color='blue', linestyle='--', label='Sample Mean')\n",
    "    plt.axhline(lower, color='red', linestyle='dotted', label='Lower Bound')\n",
    "    plt.axhline(upper, color='green', linestyle='dotted', label='Upper Bound')\n",
    "    \n",
    "    plt.title(f'{int(confidence * 100)}% Confidence Interval')\n",
    "    plt.ylabel('Value')\n",
    "    plt.legend()\n",
    "    plt.show()"
   ]
  },
  {
   "cell_type": "markdown",
   "metadata": {},
   "source": [
    "## Example"
   ]
  },
  {
   "cell_type": "code",
   "execution_count": 13,
   "metadata": {},
   "outputs": [
    {
     "name": "stdout",
     "output_type": "stream",
     "text": [
      "With a given confidence level, the true mean is expected to be between 11.69 and 14.31. The sample mean is 13.00.\n"
     ]
    },
    {
     "data": {
      "image/png": "[encoded data removed]",
      "text/plain": [
       "<Figure size 800x400 with 1 Axes>"
      ]
     },
     "metadata": {},
     "output_type": "display_data"
    }
   ],
   "source": [
    "# Example usage\n",
    "data_sample = [10, 12, 14, 11, 13, 15, 14, 13, 12, 16]\n",
    "ci = calculate_confidence_interval(data_sample)\n",
    "print(interpret_confidence_interval(ci, np.mean(data_sample)))\n",
    "plot_confidence_interval(data_sample)"
   ]
  },
  {
   "cell_type": "code",
   "execution_count": 17,
   "metadata": {},
   "outputs": [
    {
     "ename": "ModuleNotFoundError",
     "evalue": "No module named 'implementations'",
     "output_type": "error",
     "traceback": [
      "\u001b[1;31m---------------------------------------------------------------------------\u001b[0m",
      "\u001b[1;31mModuleNotFoundError\u001b[0m                       Traceback (most recent call last)",
      "Cell \u001b[1;32mIn[17], line 1\u001b[0m\n\u001b[1;32m----> 1\u001b[0m \u001b[38;5;28;01mfrom\u001b[39;00m\u001b[38;5;250m \u001b[39m\u001b[38;5;21;01msergioamar\u001b[39;00m\u001b[38;5;21;01m.\u001b[39;00m\u001b[38;5;21;01munisabana\u001b[39;00m\u001b[38;5;21;01m.\u001b[39;00m\u001b[38;5;21;01m_III\u001b[39;00m\u001b[38;5;250m \u001b[39m\u001b[38;5;28;01mimport\u001b[39;00m tests\n\u001b[0;32m      2\u001b[0m tests(\n\u001b[0;32m      3\u001b[0m     generate_correlation_matrix\u001b[38;5;241m=\u001b[39mgenerate_correlation_matrix,\n\u001b[0;32m      4\u001b[0m     interpret_correlation_value\u001b[38;5;241m=\u001b[39minterpret_correlation_value,\n\u001b[1;32m   (...)\u001b[0m\n\u001b[0;32m     12\u001b[0m     plot_confidence_interval\u001b[38;5;241m=\u001b[39mplot_confidence_interval\n\u001b[0;32m     13\u001b[0m )\n",
      "File \u001b[1;32m~\\AppData\\Local\\Packages\\PythonSoftwareFoundation.Python.3.12_qbz5n2kfra8p0\\LocalCache\\local-packages\\Python312\\site-packages\\sergioamar\\unisabana\\_III\\tests.py:5\u001b[0m\n\u001b[0;32m      2\u001b[0m \u001b[38;5;28;01mfrom\u001b[39;00m\u001b[38;5;250m \u001b[39m\u001b[38;5;21;01mtyping\u001b[39;00m\u001b[38;5;250m \u001b[39m\u001b[38;5;28;01mimport\u001b[39;00m Callable, List, Tuple, Dict\n\u001b[0;32m      4\u001b[0m \u001b[38;5;66;03m# Exercise 1: Exploratory Data Analysis (EDA)\u001b[39;00m\n\u001b[1;32m----> 5\u001b[0m \u001b[38;5;28;01mfrom\u001b[39;00m\u001b[38;5;250m \u001b[39m\u001b[38;5;21;01mimplementations\u001b[39;00m\u001b[38;5;250m \u001b[39m\u001b[38;5;28;01mimport\u001b[39;00m (\n\u001b[0;32m      6\u001b[0m     calculate_range \u001b[38;5;28;01mas\u001b[39;00m calculate_range_truth,\n\u001b[0;32m      7\u001b[0m     calculate_quartiles \u001b[38;5;28;01mas\u001b[39;00m calculate_quartiles_truth,\n\u001b[0;32m      8\u001b[0m     detect_outliers_iqr \u001b[38;5;28;01mas\u001b[39;00m detect_outliers_iqr_truth,\n\u001b[0;32m      9\u001b[0m     generate_summary_table \u001b[38;5;28;01mas\u001b[39;00m generate_summary_table_truth,\n\u001b[0;32m     10\u001b[0m     plot_eda_overview \u001b[38;5;28;01mas\u001b[39;00m plot_eda_overview_truth,\n\u001b[0;32m     11\u001b[0m )\n\u001b[0;32m     12\u001b[0m \u001b[38;5;28;01mfrom\u001b[39;00m\u001b[38;5;250m \u001b[39m\u001b[38;5;21;01minputs\u001b[39;00m\u001b[38;5;250m \u001b[39m\u001b[38;5;28;01mimport\u001b[39;00m (\n\u001b[0;32m     13\u001b[0m     calculate_range_inputs,\n\u001b[0;32m     14\u001b[0m     calculate_quartiles_inputs,\n\u001b[1;32m   (...)\u001b[0m\n\u001b[0;32m     17\u001b[0m     plot_eda_overview_inputs,\n\u001b[0;32m     18\u001b[0m )\n\u001b[0;32m     20\u001b[0m \u001b[38;5;66;03m# Exercise 2: Descriptive and Diagnostic Analytics\u001b[39;00m\n",
      "\u001b[1;31mModuleNotFoundError\u001b[0m: No module named 'implementations'"
     ]
    }
   ],
   "source": [
    "from sergioamar.unisabana._III import tests\n",
    "tests(\n",
    "    generate_correlation_matrix=generate_correlation_matrix,\n",
    "    interpret_correlation_value=interpret_correlation_value,\n",
    "    plot_correlation_matrix=plot_correlation_matrix,\n",
    "    perform_one_sample_t_test=perform_one_sample_t_test,\n",
    "    perform_two_sample_t_test=perform_two_sample_t_test,\n",
    "    find_critical_value=find_critical_value,\n",
    "    interpret_t_test_result=interpret_t_test_result,\n",
    "    calculate_confidence_interval=calculate_confidence_interval,\n",
    "    interpret_confidence_interval=interpret_confidence_interval,\n",
    "    plot_confidence_interval=plot_confidence_interval\n",
    ")"
   ]
  }
 ],
 "metadata": {
  "kernelspec": {
   "display_name": "Python 3",
   "language": "python",
   "name": "python3"
  },
  "language_info": {
   "codemirror_mode": {
    "name": "ipython",
    "version": 3
   },
   "file_extension": ".py",
   "mimetype": "text/x-python",
   "name": "python",
   "nbconvert_exporter": "python",
   "pygments_lexer": "ipython3",
   "version": "3.12.9"
  }
 },
 "nbformat": 4,
 "nbformat_minor": 2
}
