{
 "cells": [
  {
   "cell_type": "markdown",
   "metadata": {},
   "source": [
    "# Workshop II - Advanced Data Analytics\n",
    "## Mateo Vanegas - 296175\n",
    "## Nicolas Urrea - 304871"
   ]
  },
  {
   "cell_type": "markdown",
   "metadata": {},
   "source": [
    "## Excercise 1"
   ]
  },
  {
   "cell_type": "markdown",
   "metadata": {},
   "source": [
    "### 1.1"
   ]
  },
  {
   "cell_type": "code",
   "execution_count": 1,
   "metadata": {},
   "outputs": [],
   "source": [
    "import numpy as np\n",
    "import matplotlib.pyplot as plt\n",
    "\n",
    "def generate_correlation_matrix(data: list[list[float]]) -> list[list[float]]:\n",
    "    \"\"\"\n",
    "    Computes the correlation matrix for multiple variables.\n",
    "    \n",
    "    :param data: List of lists, where each inner list represents a variable (column).\n",
    "    :return: Correlation matrix as a 2D list.\n",
    "    \"\"\"\n",
    "    data_array = np.array(data)  # Convert list of lists to NumPy array\n",
    "    correlation_matrix = np.corrcoef(data_array)  # Compute correlation matrix\n",
    "    return correlation_matrix.tolist()  # Convert back to list of lists\n"
   ]
  },
  {
   "cell_type": "markdown",
   "metadata": {},
   "source": [
    "### 1.2"
   ]
  },
  {
   "cell_type": "code",
   "execution_count": 4,
   "metadata": {},
   "outputs": [],
   "source": [
    "def interpret_correlation_value(correlation: float) -> str:\n",
    "    \"\"\"\n",
    "    Interprets the strength of a given correlation coefficient.\n",
    "    \n",
    "    :param correlation: Correlation coefficient (-1 to 1).\n",
    "    :return: Interpretation as a string.\n",
    "    \"\"\"\n",
    "    if correlation >= 0.9:\n",
    "        return \"Very strong positive correlation\"\n",
    "    elif correlation >= 0.7:\n",
    "        return \"Strong positive correlation\"\n",
    "    elif correlation >= 0.4:\n",
    "        return \"Moderate positive correlation\"\n",
    "    elif correlation >= 0.2:\n",
    "        return \"Weak positive correlation\"\n",
    "    elif correlation > -0.2:\n",
    "        return \"Very weak or no correlation\"\n",
    "    elif correlation > -0.4:\n",
    "        return \"Weak negative correlation\"\n",
    "    elif correlation > -0.7:\n",
    "        return \"Moderate negative correlation\"\n",
    "    elif correlation > -0.9:\n",
    "        return \"Strong negative correlation\"\n",
    "    else:\n",
    "        return \"Very strong negative correlation\"\n"
   ]
  },
  {
   "cell_type": "markdown",
   "metadata": {},
   "source": [
    "### 1.3"
   ]
  },
  {
   "cell_type": "code",
   "execution_count": 2,
   "metadata": {},
   "outputs": [],
   "source": [
    "import seaborn as sns\n",
    "def plot_correlation_matrix(data: list[list[float]], labels: list[str]) -> None:\n",
    "    \"\"\"\n",
    "    Generates a heatmap of the correlation matrix.\n",
    "    \n",
    "    :param data: List of lists where each inner list represents a variable.\n",
    "    :param labels: List of variable names.\n",
    "    \"\"\"\n",
    "    correlation_matrix = np.array(generate_correlation_matrix(data))  # Compute correlation matrix\n",
    "    plt.figure(figsize=(8, 6))  # Set figure size\n",
    "    sns.heatmap(correlation_matrix, annot=True, cmap=\"coolwarm\", xticklabels=labels, yticklabels=labels)\n",
    "    plt.title(\"Correlation Matrix Heatmap\")\n",
    "    plt.show()\n"
   ]
  },
  {
   "cell_type": "markdown",
   "metadata": {},
   "source": [
    "### Example"
   ]
  },
  {
   "cell_type": "code",
   "execution_count": 5,
   "metadata": {},
   "outputs": [
    {
     "name": "stdout",
     "output_type": "stream",
     "text": [
      "Correlation Matrix: [[0.9999999999999999, 0.9999999999999999, -0.9999999999999999], [0.9999999999999999, 0.9999999999999999, -0.9999999999999999], [-0.9999999999999999, -0.9999999999999999, 0.9999999999999999]]\n",
      "Interpretation of correlation 0.9999999999999999: Very strong positive correlation\n"
     ]
    },
    {
     "data": {
      "image/png": "[encoded data removed]",
      "text/plain": [
       "<Figure size 800x600 with 2 Axes>"
      ]
     },
     "metadata": {},
     "output_type": "display_data"
    }
   ],
   "source": [
    "# Sample data (3 variables with 5 observations each)\n",
    "data = [\n",
    "    [1, 2, 3, 4, 5],  # Variable 1\n",
    "    [2, 4, 6, 8, 10],  # Variable 2 (strong positive correlation with Variable 1)\n",
    "    [5, 4, 3, 2, 1]   # Variable 3 (strong negative correlation with Variable 1)\n",
    "]\n",
    "\n",
    "labels = [\"Var1\", \"Var2\", \"Var3\"]\n",
    "\n",
    "# Compute and print correlation matrix\n",
    "corr_matrix = generate_correlation_matrix(data)\n",
    "print(\"Correlation Matrix:\", corr_matrix)\n",
    "\n",
    "# Interpret one correlation value\n",
    "corr_value = corr_matrix[0][1]  # Correlation between Var1 and Var2\n",
    "print(f\"Interpretation of correlation {corr_value}: {interpret_correlation_value(corr_value)}\")\n",
    "\n",
    "# Plot the correlation matrix\n",
    "plot_correlation_matrix(data, labels)\n"
   ]
  },
  {
   "cell_type": "markdown",
   "metadata": {},
   "source": [
    "## Excercise 2"
   ]
  },
  {
   "cell_type": "markdown",
   "metadata": {},
   "source": [
    "### 2.1"
   ]
  },
  {
   "cell_type": "code",
   "execution_count": 6,
   "metadata": {},
   "outputs": [],
   "source": [
    "from scipy import stats\n",
    "\n",
    "def perform_one_sample_t_test(data: list[float], population_mean: float) -> dict[str, float]:\n",
    "    \"\"\"\n",
    "    Performs a one-sample t-test.\n",
    "    \n",
    "    :param data: List of sample values.\n",
    "    :param population_mean: Known population mean.\n",
    "    :return: Dictionary with t-statistic and p-value.\n",
    "    \"\"\"\n",
    "    t_stat, p_value = stats.ttest_1samp(data, population_mean)  # Perform one-sample t-test\n",
    "    return {\"t-statistic\": t_stat, \"p-value\": p_value}\n"
   ]
  },
  {
   "cell_type": "markdown",
   "metadata": {},
   "source": [
    "### 2.2"
   ]
  },
  {
   "cell_type": "code",
   "execution_count": 7,
   "metadata": {},
   "outputs": [],
   "source": [
    "def perform_two_sample_t_test(data1: list[float], data2: list[float]) -> dict[str, float]:\n",
    "    \"\"\"\n",
    "    Performs an independent two-sample t-test.\n",
    "    \n",
    "    :param data1: List of values for sample 1.\n",
    "    :param data2: List of values for sample 2.\n",
    "    :return: Dictionary with t-statistic and p-value.\n",
    "    \"\"\"\n",
    "    t_stat, p_value = stats.ttest_ind(data1, data2)  # Perform two-sample t-test\n",
    "    return {\"t-statistic\": t_stat, \"p-value\": p_value}\n"
   ]
  },
  {
   "cell_type": "markdown",
   "metadata": {},
   "source": [
    "### 2.3"
   ]
  },
  {
   "cell_type": "code",
   "execution_count": 8,
   "metadata": {},
   "outputs": [],
   "source": [
    "def find_critical_value(alpha: float, df: int) -> float:\n",
    "    \"\"\"\n",
    "    Computes the critical t-value based on significance level and degrees of freedom.\n",
    "    \n",
    "    :param alpha: Significance level (e.g., 0.05 for 95% confidence).\n",
    "    :param df: Degrees of freedom.\n",
    "    :return: Critical t-value.\n",
    "    \"\"\"\n",
    "    return stats.t.ppf(1 - alpha / 2, df)  # Two-tailed test critical value\n"
   ]
  },
  {
   "cell_type": "markdown",
   "metadata": {},
   "source": [
    "### 2.4"
   ]
  },
  {
   "cell_type": "code",
   "execution_count": 9,
   "metadata": {},
   "outputs": [],
   "source": [
    "def interpret_t_test_result(stats_result: dict[str, float], alpha: float = 0.05) -> str:\n",
    "    \"\"\"\n",
    "    Interprets the results of a t-test.\n",
    "    \n",
    "    :param stats_result: Dictionary with t-statistic and p-value.\n",
    "    :param alpha: Significance level.\n",
    "    :return: Interpretation as a string.\n",
    "    \"\"\"\n",
    "    p_value = stats_result[\"p-value\"]\n",
    "    if p_value < alpha:\n",
    "        return f\"Reject the null hypothesis (p={p_value:.5f}): Significant difference.\"\n",
    "    else:\n",
    "        return f\"Fail to reject the null hypothesis (p={p_value:.5f}): No significant difference.\"\n"
   ]
  },
  {
   "cell_type": "markdown",
   "metadata": {},
   "source": [
    "### Example"
   ]
  },
  {
   "cell_type": "code",
   "execution_count": 10,
   "metadata": {},
   "outputs": [
    {
     "name": "stdout",
     "output_type": "stream",
     "text": [
      "One-Sample t-test: {'t-statistic': 0.6666666666666673, 'p-value': 0.5217069270814155}\n",
      "Fail to reject the null hypothesis (p=0.52171): No significant difference.\n",
      "\n",
      "Two-Sample t-test: {'t-statistic': -8.396895462201574, 'p-value': 1.221433755174456e-07}\n",
      "Reject the null hypothesis (p=0.00000): Significant difference.\n",
      "\n",
      "Critical Value (alpha=0.05, df=9): 2.26216\n"
     ]
    }
   ],
   "source": [
    "# Sample data\n",
    "sample1 = [12, 15, 14, 10, 13, 16, 11, 14, 15, 14]  # Sample 1\n",
    "sample2 = [18, 20, 19, 21, 22, 20, 23, 19, 18, 21]  # Sample 2\n",
    "population_mean = 13\n",
    "\n",
    "# One-sample t-test\n",
    "one_sample_result = perform_one_sample_t_test(sample1, population_mean)\n",
    "print(\"One-Sample t-test:\", one_sample_result)\n",
    "print(interpret_t_test_result(one_sample_result))\n",
    "\n",
    "# Two-sample t-test\n",
    "two_sample_result = perform_two_sample_t_test(sample1, sample2)\n",
    "print(\"\\nTwo-Sample t-test:\", two_sample_result)\n",
    "print(interpret_t_test_result(two_sample_result))\n",
    "\n",
    "# Finding critical value\n",
    "alpha = 0.05\n",
    "df = len(sample1) - 1\n",
    "critical_value = find_critical_value(alpha, df)\n",
    "print(f\"\\nCritical Value (alpha={alpha}, df={df}): {critical_value:.5f}\")\n"
   ]
  }
 ],
 "metadata": {
  "kernelspec": {
   "display_name": "base",
   "language": "python",
   "name": "python3"
  },
  "language_info": {
   "codemirror_mode": {
    "name": "ipython",
    "version": 3
   },
   "file_extension": ".py",
   "mimetype": "text/x-python",
   "name": "python",
   "nbconvert_exporter": "python",
   "pygments_lexer": "ipython3",
   "version": "3.12.7"
  }
 },
 "nbformat": 4,
 "nbformat_minor": 2
}
